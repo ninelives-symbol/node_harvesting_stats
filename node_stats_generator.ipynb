{
 "cells": [
  {
   "cell_type": "code",
   "execution_count": 1,
   "id": "fb65c889-1bc9-4233-9b5e-c5bf22b99c33",
   "metadata": {},
   "outputs": [],
   "source": [
    "from pymongo import MongoClient\n",
    "import base64\n",
    "from sshtunnel import SSHTunnelForwarder\n",
    "from binascii import hexlify, unhexlify\n",
    "from symbolchain.facade.SymbolFacade import SymbolFacade\n",
    "from symbolchain.CryptoTypes import PublicKey\n",
    "import requests\n",
    "from tqdm import tqdm\n",
    "from collections import defaultdict\n"
   ]
  },
  {
   "cell_type": "code",
   "execution_count": 2,
   "id": "4983e9b1-b772-4637-aa05-3779b274ada3",
   "metadata": {},
   "outputs": [
    {
     "ename": "ValueError",
     "evalue": "No password or public key available!",
     "output_type": "error",
     "traceback": [
      "\u001b[0;31m---------------------------------------------------------------------------\u001b[0m",
      "\u001b[0;31mValueError\u001b[0m                                Traceback (most recent call last)",
      "Cell \u001b[0;32mIn[2], line 3\u001b[0m\n\u001b[1;32m      1\u001b[0m MONGO_HOST \u001b[38;5;241m=\u001b[39m \u001b[38;5;124m\"\u001b[39m\u001b[38;5;124msymbolblog-testnet.com\u001b[39m\u001b[38;5;124m\"\u001b[39m \u001b[38;5;66;03m# Update with your node details\u001b[39;00m\n\u001b[0;32m----> 3\u001b[0m server \u001b[38;5;241m=\u001b[39m \u001b[43mSSHTunnelForwarder\u001b[49m\u001b[43m(\u001b[49m\n\u001b[1;32m      4\u001b[0m \u001b[43m    \u001b[49m\u001b[43m(\u001b[49m\u001b[43mMONGO_HOST\u001b[49m\u001b[43m,\u001b[49m\u001b[38;5;241;43m22\u001b[39;49m\u001b[43m)\u001b[49m\u001b[43m,\u001b[49m\n\u001b[1;32m      5\u001b[0m \u001b[43m    \u001b[49m\u001b[43mssh_username\u001b[49m\u001b[38;5;241;43m=\u001b[39;49m\u001b[38;5;124;43m'\u001b[39;49m\u001b[38;5;124;43m'\u001b[39;49m\u001b[43m,\u001b[49m\u001b[43m \u001b[49m\u001b[38;5;66;43;03m# Add username of node\u001b[39;49;00m\n\u001b[1;32m      6\u001b[0m \u001b[43m    \u001b[49m\u001b[43mssh_password\u001b[49m\u001b[38;5;241;43m=\u001b[39;49m\u001b[38;5;124;43m'\u001b[39;49m\u001b[38;5;124;43m'\u001b[39;49m\u001b[43m,\u001b[49m\u001b[43m \u001b[49m\u001b[38;5;66;43;03m# Add password of node\u001b[39;49;00m\n\u001b[1;32m      7\u001b[0m \u001b[43m    \u001b[49m\u001b[43mremote_bind_address\u001b[49m\u001b[38;5;241;43m=\u001b[39;49m\u001b[43m(\u001b[49m\u001b[38;5;124;43m'\u001b[39;49m\u001b[38;5;124;43m172.20.0.2\u001b[39;49m\u001b[38;5;124;43m'\u001b[39;49m\u001b[43m,\u001b[49m\u001b[43m \u001b[49m\u001b[38;5;241;43m27017\u001b[39;49m\u001b[43m)\u001b[49m\n\u001b[1;32m      8\u001b[0m \u001b[43m  \u001b[49m\u001b[43m)\u001b[49m\n\u001b[1;32m      9\u001b[0m server\u001b[38;5;241m.\u001b[39mstart()\n",
      "File \u001b[0;32m~/miniconda3/lib/python3.9/site-packages/sshtunnel.py:966\u001b[0m, in \u001b[0;36mSSHTunnelForwarder.__init__\u001b[0;34m(self, ssh_address_or_host, ssh_config_file, ssh_host_key, ssh_password, ssh_pkey, ssh_private_key_password, ssh_proxy, ssh_proxy_enabled, ssh_username, local_bind_address, local_bind_addresses, logger, mute_exceptions, remote_bind_address, remote_bind_addresses, set_keepalive, threaded, compression, allow_agent, host_pkey_directories, *args, **kwargs)\u001b[0m\n\u001b[1;32m    947\u001b[0m \u001b[38;5;28mself\u001b[39m\u001b[38;5;241m.\u001b[39m_local_binds \u001b[38;5;241m=\u001b[39m \u001b[38;5;28mself\u001b[39m\u001b[38;5;241m.\u001b[39m_consolidate_binds(\u001b[38;5;28mself\u001b[39m\u001b[38;5;241m.\u001b[39m_local_binds,\n\u001b[1;32m    948\u001b[0m                                             \u001b[38;5;28mself\u001b[39m\u001b[38;5;241m.\u001b[39m_remote_binds)\n\u001b[1;32m    950\u001b[0m (\u001b[38;5;28mself\u001b[39m\u001b[38;5;241m.\u001b[39mssh_host,\n\u001b[1;32m    951\u001b[0m  \u001b[38;5;28mself\u001b[39m\u001b[38;5;241m.\u001b[39mssh_username,\n\u001b[1;32m    952\u001b[0m  ssh_pkey,  \u001b[38;5;66;03m# still needs to go through _consolidate_auth\u001b[39;00m\n\u001b[0;32m   (...)\u001b[0m\n\u001b[1;32m    963\u001b[0m      \u001b[38;5;28mself\u001b[39m\u001b[38;5;241m.\u001b[39mlogger\n\u001b[1;32m    964\u001b[0m )\n\u001b[0;32m--> 966\u001b[0m (\u001b[38;5;28mself\u001b[39m\u001b[38;5;241m.\u001b[39mssh_password, \u001b[38;5;28mself\u001b[39m\u001b[38;5;241m.\u001b[39mssh_pkeys) \u001b[38;5;241m=\u001b[39m \u001b[38;5;28;43mself\u001b[39;49m\u001b[38;5;241;43m.\u001b[39;49m\u001b[43m_consolidate_auth\u001b[49m\u001b[43m(\u001b[49m\n\u001b[1;32m    967\u001b[0m \u001b[43m    \u001b[49m\u001b[43mssh_password\u001b[49m\u001b[38;5;241;43m=\u001b[39;49m\u001b[43mssh_password\u001b[49m\u001b[43m,\u001b[49m\n\u001b[1;32m    968\u001b[0m \u001b[43m    \u001b[49m\u001b[43mssh_pkey\u001b[49m\u001b[38;5;241;43m=\u001b[39;49m\u001b[43mssh_pkey\u001b[49m\u001b[43m,\u001b[49m\n\u001b[1;32m    969\u001b[0m \u001b[43m    \u001b[49m\u001b[43mssh_pkey_password\u001b[49m\u001b[38;5;241;43m=\u001b[39;49m\u001b[43mssh_private_key_password\u001b[49m\u001b[43m,\u001b[49m\n\u001b[1;32m    970\u001b[0m \u001b[43m    \u001b[49m\u001b[43mallow_agent\u001b[49m\u001b[38;5;241;43m=\u001b[39;49m\u001b[43mallow_agent\u001b[49m\u001b[43m,\u001b[49m\n\u001b[1;32m    971\u001b[0m \u001b[43m    \u001b[49m\u001b[43mhost_pkey_directories\u001b[49m\u001b[38;5;241;43m=\u001b[39;49m\u001b[43mhost_pkey_directories\u001b[49m\u001b[43m,\u001b[49m\n\u001b[1;32m    972\u001b[0m \u001b[43m    \u001b[49m\u001b[43mlogger\u001b[49m\u001b[38;5;241;43m=\u001b[39;49m\u001b[38;5;28;43mself\u001b[39;49m\u001b[38;5;241;43m.\u001b[39;49m\u001b[43mlogger\u001b[49m\n\u001b[1;32m    973\u001b[0m \u001b[43m\u001b[49m\u001b[43m)\u001b[49m\n\u001b[1;32m    975\u001b[0m check_host(\u001b[38;5;28mself\u001b[39m\u001b[38;5;241m.\u001b[39mssh_host)\n\u001b[1;32m    976\u001b[0m check_port(\u001b[38;5;28mself\u001b[39m\u001b[38;5;241m.\u001b[39mssh_port)\n",
      "File \u001b[0;32m~/miniconda3/lib/python3.9/site-packages/sshtunnel.py:1169\u001b[0m, in \u001b[0;36mSSHTunnelForwarder._consolidate_auth\u001b[0;34m(ssh_password, ssh_pkey, ssh_pkey_password, allow_agent, host_pkey_directories, logger)\u001b[0m\n\u001b[1;32m   1166\u001b[0m     ssh_loaded_pkeys\u001b[38;5;241m.\u001b[39minsert(\u001b[38;5;241m0\u001b[39m, ssh_pkey)\n\u001b[1;32m   1168\u001b[0m \u001b[38;5;28;01mif\u001b[39;00m \u001b[38;5;129;01mnot\u001b[39;00m ssh_password \u001b[38;5;129;01mand\u001b[39;00m \u001b[38;5;129;01mnot\u001b[39;00m ssh_loaded_pkeys:\n\u001b[0;32m-> 1169\u001b[0m     \u001b[38;5;28;01mraise\u001b[39;00m \u001b[38;5;167;01mValueError\u001b[39;00m(\u001b[38;5;124m'\u001b[39m\u001b[38;5;124mNo password or public key available!\u001b[39m\u001b[38;5;124m'\u001b[39m)\n\u001b[1;32m   1170\u001b[0m \u001b[38;5;28;01mreturn\u001b[39;00m (ssh_password, ssh_loaded_pkeys)\n",
      "\u001b[0;31mValueError\u001b[0m: No password or public key available!"
     ]
    }
   ],
   "source": [
    "MONGO_HOST = \"symbolblog-testnet.com\" # Update with your node details\n",
    "\n",
    "server = SSHTunnelForwarder(\n",
    "    (MONGO_HOST,22),\n",
    "    ssh_username='', # Add username of node\n",
    "    ssh_password='', # Add password of node\n",
    "    remote_bind_address=('172.20.0.2', 27017)\n",
    "  )\n",
    "server.start()"
   ]
  },
  {
   "cell_type": "code",
   "execution_count": null,
   "id": "f21c743e-a651-4858-a158-27418c90df42",
   "metadata": {},
   "outputs": [],
   "source": [
    "client = MongoClient('localhost', server.local_bind_port)\n",
    "print(server.local_bind_port)\n",
    "print(\"connected\")"
   ]
  },
  {
   "cell_type": "code",
   "execution_count": null,
   "id": "bcdf4cfd-c441-4713-a591-580ee41e6095",
   "metadata": {},
   "outputs": [],
   "source": [
    "# Read in list of node addresses\n",
    "\n",
    "nodes = []  # Initialize an empty list to store nodes\n",
    "try:\n",
    "    with open(\"list.txt\", 'r') as file:\n",
    "        for line in file:\n",
    "            nodes.append(line.strip())\n",
    "except FileNotFoundError:\n",
    "    print(f\"File not found: {list.txt}\")\n"
   ]
  },
  {
   "cell_type": "code",
   "execution_count": null,
   "id": "58796fd9-8193-40be-bb4f-d78702c208db",
   "metadata": {},
   "outputs": [],
   "source": [
    "# Function to fetch JSON data for unlocked accounts (harvesters on the node)\n",
    "def fetch_json_data(node, timeout=10):  # timeout of 10 seconds\n",
    "    url = f\"http://{node}:3000/node/unlockedaccount\"\n",
    "    try:\n",
    "        response = requests.get(url, timeout=timeout)\n",
    "        response.raise_for_status()\n",
    "        data = response.json()\n",
    "        return data\n",
    "    except requests.Timeout:\n",
    "        print(f\"Request to {url} timed out.\")\n",
    "        return None\n",
    "    except requests.RequestException as e:\n",
    "        print(f\"Request to {url} failed: {e}\")\n",
    "        return None\n",
    "\n",
    "# Create a dictionary to store nodes and harvesters\n",
    "node_details = {}\n",
    "\n",
    "# Loop through each node, fetch JSON data, and add it to the dictionary\n",
    "for node in tqdm(nodes, desc=\"Fetching JSON Data\"):  # tqdm wrapper for progress bar\n",
    "    json_data = fetch_json_data(node)\n",
    "    if json_data and 'unlockedAccount' in json_data:\n",
    "        node_details[node] = json_data['unlockedAccount']\n",
    "\n"
   ]
  },
  {
   "cell_type": "code",
   "execution_count": null,
   "id": "959b0fb4-45be-44ca-86f0-c263564f8c40",
   "metadata": {},
   "outputs": [],
   "source": [
    "facade = SymbolFacade('mainnet')\n",
    "\n",
    "db = client['catapult']\n",
    "collection = db.transactions\n",
    "mapping = defaultdict(dict)\n",
    "\n",
    "out = collection.find({'transaction.type': 16716})\n",
    "for x in out:\n",
    "    if x['transaction']['linkAction'] == 1:\n",
    "        main = str(facade.network.public_key_to_address(PublicKey((hexlify(x['transaction']['signerPublicKey']).decode('utf8')))))    \n",
    "        link = str(facade.network.public_key_to_address(PublicKey((hexlify(x['transaction']['linkedPublicKey']).decode('utf8')))))\n",
    "        mapping[link] = main\n",
    "\n",
    "address_details = defaultdict(list)\n",
    "for node, public_keys in node_details.items():\n",
    "    for pk in public_keys:\n",
    "        address = str(facade.network.public_key_to_address(PublicKey(pk)))\n",
    "        if address in mapping:  # Check if the address is in mapping\n",
    "            address_details[node].append(mapping[address])\n",
    "        else:\n",
    "            address_details[node].append(address)\n"
   ]
  },
  {
   "cell_type": "code",
   "execution_count": null,
   "id": "7c155147-ba32-437a-bb67-5abed043fcb2",
   "metadata": {},
   "outputs": [],
   "source": [
    "db = client['catapult']\n",
    "collection = db.accounts\n",
    "facade = SymbolFacade('mainnet')\n",
    "\n",
    "out = collection.find()\n",
    "\n",
    "balances = {}\n",
    "\n",
    "for x in out:\n",
    "    xym = 0\n",
    "    address = str(base64.b32encode(x['account']['address']).decode('utf8')[0:39])\n",
    "    mosaics = x['account']['mosaics']\n",
    "    for mos in mosaics:\n",
    "        if (mos['id'] == 7777031834025731064):\n",
    "            balances[address] = mos['amount']/1000000\n",
    "            xym = 1\n",
    "    if xym == 0:\n",
    "        balances[address] = 0\n"
   ]
  },
  {
   "cell_type": "code",
   "execution_count": null,
   "id": "b67dc0a6-14ba-4eef-aa55-4121145ab931",
   "metadata": {
    "scrolled": true
   },
   "outputs": [],
   "source": [
    "balance_details = defaultdict(list)\n",
    "\n",
    "for node, addresses in address_details.items():\n",
    "    for address in addresses:\n",
    "        try:\n",
    "            balance_details[node].append(balances[address])\n",
    "        except:\n",
    "            balance_details[node].append(0)"
   ]
  },
  {
   "cell_type": "code",
   "execution_count": null,
   "id": "48625ead-4090-4924-a94c-3afe80c8b3a6",
   "metadata": {},
   "outputs": [],
   "source": [
    "with open('nodes_balances.tsv', 'w') as file:\n",
    "    file.write(\"Node\\tHarvesters\\tMain\\tTotal\\n\")\n",
    "    \n",
    "    # Iterate through the dictionary and write the required information\n",
    "    for node, balances in balance_details.items():\n",
    "        list_size = len(balances)\n",
    "        main = balances[0] if balances else 'N/A'  # Handle empty list case\n",
    "        total = sum(balances)\n",
    "        file.write(f\"{node}\\t{list_size}\\t{main}\\t{total}\\n\")\n"
   ]
  },
  {
   "cell_type": "code",
   "execution_count": null,
   "id": "57b23004-7266-4e82-917f-1bf01ee3b51a",
   "metadata": {},
   "outputs": [],
   "source": []
  },
  {
   "cell_type": "code",
   "execution_count": null,
   "id": "c7332272-f73c-4e67-b82b-3bec08c3e5f8",
   "metadata": {},
   "outputs": [],
   "source": []
  }
 ],
 "metadata": {
  "kernelspec": {
   "display_name": "Python 3 (ipykernel)",
   "language": "python",
   "name": "python3"
  },
  "language_info": {
   "codemirror_mode": {
    "name": "ipython",
    "version": 3
   },
   "file_extension": ".py",
   "mimetype": "text/x-python",
   "name": "python",
   "nbconvert_exporter": "python",
   "pygments_lexer": "ipython3",
   "version": "3.9.7"
  }
 },
 "nbformat": 4,
 "nbformat_minor": 5
}
