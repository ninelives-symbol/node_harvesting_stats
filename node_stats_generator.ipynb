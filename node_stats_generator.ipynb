{
 "cells": [
  {
   "cell_type": "code",
   "execution_count": null,
   "id": "fb65c889-1bc9-4233-9b5e-c5bf22b99c33",
   "metadata": {},
   "outputs": [],
   "source": [
    "from pymongo import MongoClient\n",
    "import base64\n",
    "from sshtunnel import SSHTunnelForwarder\n",
    "from binascii import hexlify, unhexlify\n",
    "from symbolchain.facade.SymbolFacade import SymbolFacade\n",
    "from symbolchain.CryptoTypes import PublicKey\n",
    "import requests\n",
    "from tqdm import tqdm\n",
    "from collections import defaultdict\n"
   ]
  },
  {
   "cell_type": "code",
   "execution_count": null,
   "id": "4983e9b1-b772-4637-aa05-3779b274ada3",
   "metadata": {},
   "outputs": [],
   "source": [
    "MONGO_HOST = \"symbolblog-testnet.com\" # Update with your node details\n",
    "\n",
    "server = SSHTunnelForwarder(\n",
    "    (MONGO_HOST,22),\n",
    "    ssh_username='', # Add username of node\n",
    "    ssh_password='', # Add password of node\n",
    "    remote_bind_address=('172.20.0.2', 27017)\n",
    "  )\n",
    "server.start()"
   ]
  },
  {
   "cell_type": "code",
   "execution_count": null,
   "id": "f21c743e-a651-4858-a158-27418c90df42",
   "metadata": {},
   "outputs": [],
   "source": [
    "client = MongoClient('localhost', server.local_bind_port)\n",
    "print(server.local_bind_port)\n",
    "print(\"connected\")"
   ]
  },
  {
   "cell_type": "code",
   "execution_count": null,
   "id": "bcdf4cfd-c441-4713-a591-580ee41e6095",
   "metadata": {},
   "outputs": [],
   "source": [
    "# Read in list of node addresses\n",
    "\n",
    "nodes = []  # Initialize an empty list to store nodes\n",
    "try:\n",
    "    with open(\"list.txt\", 'r') as file:\n",
    "        for line in file:\n",
    "            nodes.append(line.strip())\n",
    "except FileNotFoundError:\n",
    "    print(f\"File not found: {list.txt}\")\n"
   ]
  },
  {
   "cell_type": "code",
   "execution_count": null,
   "id": "58796fd9-8193-40be-bb4f-d78702c208db",
   "metadata": {},
   "outputs": [],
   "source": [
    "# Function to fetch JSON data for unlocked accounts (harvesters on the node)\n",
    "def fetch_json_data(node, timeout=10):  # timeout of 10 seconds\n",
    "    url = f\"http://{node}:3000/node/unlockedaccount\"\n",
    "    try:\n",
    "        response = requests.get(url, timeout=timeout)\n",
    "        response.raise_for_status()\n",
    "        data = response.json()\n",
    "        return data\n",
    "    except requests.Timeout:\n",
    "        print(f\"Request to {url} timed out.\")\n",
    "        return None\n",
    "    except requests.RequestException as e:\n",
    "        print(f\"Request to {url} failed: {e}\")\n",
    "        return None\n",
    "\n",
    "# Create a dictionary to store nodes and harvesters\n",
    "node_details = {}\n",
    "\n",
    "# Loop through each node, fetch JSON data, and add it to the dictionary\n",
    "for node in tqdm(nodes, desc=\"Fetching JSON Data\"):  # tqdm wrapper for progress bar\n",
    "    json_data = fetch_json_data(node)\n",
    "    if json_data and 'unlockedAccount' in json_data:\n",
    "        node_details[node] = json_data['unlockedAccount']\n",
    "\n"
   ]
  },
  {
   "cell_type": "code",
   "execution_count": null,
   "id": "959b0fb4-45be-44ca-86f0-c263564f8c40",
   "metadata": {},
   "outputs": [],
   "source": [
    "facade = SymbolFacade('mainnet')\n",
    "\n",
    "db = client['catapult']\n",
    "collection = db.transactions\n",
    "mapping = defaultdict(dict)\n",
    "\n",
    "out = collection.find({'transaction.type': 16716})\n",
    "for x in out:\n",
    "    if x['transaction']['linkAction'] == 1:\n",
    "        main = str(facade.network.public_key_to_address(PublicKey((hexlify(x['transaction']['signerPublicKey']).decode('utf8')))))    \n",
    "        link = str(facade.network.public_key_to_address(PublicKey((hexlify(x['transaction']['linkedPublicKey']).decode('utf8')))))\n",
    "        mapping[link] = main\n",
    "\n",
    "address_details = defaultdict(list)\n",
    "for node, public_keys in node_details.items():\n",
    "    for pk in public_keys:\n",
    "        address = str(facade.network.public_key_to_address(PublicKey(pk)))\n",
    "        if address in mapping:  # Check if the address is in mapping\n",
    "            address_details[node].append(mapping[address])\n",
    "        else:\n",
    "            address_details[node].append(address)\n"
   ]
  },
  {
   "cell_type": "code",
   "execution_count": null,
   "id": "7c155147-ba32-437a-bb67-5abed043fcb2",
   "metadata": {},
   "outputs": [],
   "source": [
    "db = client['catapult']\n",
    "collection = db.accounts\n",
    "facade = SymbolFacade('mainnet')\n",
    "\n",
    "out = collection.find()\n",
    "\n",
    "balances = {}\n",
    "\n",
    "for x in out:\n",
    "    xym = 0\n",
    "    address = str(base64.b32encode(x['account']['address']).decode('utf8')[0:39])\n",
    "    mosaics = x['account']['mosaics']\n",
    "    for mos in mosaics:\n",
    "        if (mos['id'] == 7777031834025731064):\n",
    "            balances[address] = mos['amount']/1000000\n",
    "            xym = 1\n",
    "    if xym == 0:\n",
    "        balances[address] = 0\n"
   ]
  },
  {
   "cell_type": "code",
   "execution_count": null,
   "id": "b67dc0a6-14ba-4eef-aa55-4121145ab931",
   "metadata": {
    "scrolled": true
   },
   "outputs": [],
   "source": [
    "balance_details = defaultdict(list)\n",
    "\n",
    "for node, addresses in address_details.items():\n",
    "    for address in addresses:\n",
    "        try:\n",
    "            balance_details[node].append(balances[address])\n",
    "        except:\n",
    "            balance_details[node].append(0)"
   ]
  },
  {
   "cell_type": "code",
   "execution_count": null,
   "id": "48625ead-4090-4924-a94c-3afe80c8b3a6",
   "metadata": {},
   "outputs": [],
   "source": [
    "with open('nodes_balances.tsv', 'w') as file:\n",
    "    file.write(\"Node\\tHarvesters\\tMain\\tTotal\\n\")\n",
    "    \n",
    "    # Iterate through the dictionary and write the required information\n",
    "    for node, balances in balance_details.items():\n",
    "        list_size = len(balances)\n",
    "        main = balances[0] if balances else 'N/A'  # Handle empty list case\n",
    "        total = sum(balances)\n",
    "        file.write(f\"{node}\\t{list_size}\\t{main}\\t{total}\\n\")\n"
   ]
  },
  {
   "cell_type": "code",
   "execution_count": null,
   "id": "57b23004-7266-4e82-917f-1bf01ee3b51a",
   "metadata": {},
   "outputs": [],
   "source": []
  },
  {
   "cell_type": "code",
   "execution_count": null,
   "id": "c7332272-f73c-4e67-b82b-3bec08c3e5f8",
   "metadata": {},
   "outputs": [],
   "source": []
  }
 ],
 "metadata": {
  "kernelspec": {
   "display_name": "Python 3 (ipykernel)",
   "language": "python",
   "name": "python3"
  },
  "language_info": {
   "codemirror_mode": {
    "name": "ipython",
    "version": 3
   },
   "file_extension": ".py",
   "mimetype": "text/x-python",
   "name": "python",
   "nbconvert_exporter": "python",
   "pygments_lexer": "ipython3",
   "version": "3.9.7"
  }
 },
 "nbformat": 4,
 "nbformat_minor": 5
}
